{
 "cells": [
  {
   "cell_type": "markdown",
   "metadata": {},
   "source": [
    "# Demonstração de Super-Resolução com SRFlow\n",
    "Este notebook demonstra o processo de super-resolução com SRFlow em imagens utilizando o modelo pré-treinado. Cada etapa é explicada para ajudar você a entender o fluxo de trabalho, desde o carregamento das imagens até a avaliação dos resultados."
   ]
  },
  {
   "cell_type": "markdown",
   "metadata": {},
   "source": [
    "## 1. Verificar ambiente Python\n",
    "Primeiro, verificamos qual executável do Python está sendo usado. Isso ajuda a garantir que o ambiente correto está ativo. É esperado que tudo esteja em um ambiente virualizado, na pasta `.venv`."
   ]
  },
  {
   "cell_type": "code",
   "execution_count": null,
   "metadata": {},
   "outputs": [],
   "source": [
    "import sys\n",
    "print(sys.executable)"
   ]
  },
  {
   "cell_type": "markdown",
   "metadata": {},
   "source": [
    "## 2. Importar bibliotecas necessárias e definir funções utilitárias\n",
    "Importamos todas as bibliotecas necessárias e definimos funções auxiliares para processamento e exibição de imagens."
   ]
  },
  {
   "cell_type": "code",
   "execution_count": null,
   "metadata": {},
   "outputs": [],
   "source": [
    "import glob\n",
    "import torch\n",
    "import numpy as np\n",
    "from PIL import Image\n",
    "\n",
    "import Measure\n",
    "from imresize import imresize\n",
    "from test import load_model, imread\n",
    "\n",
    "# Converte uma imagem para o formato RGB\n",
    "def to_tensor(array):\n",
    "    return torch.Tensor(np.expand_dims(array.transpose([2, 0, 1]), axis=0).astype(np.float32)) / 255\n",
    "\n",
    "# Converte um tensor para o formato de imagem\n",
    "def to_image(t):\n",
    "    return (np.clip((t[0] if len(t.shape) == 4 else t).detach().cpu().numpy().transpose([1, 2, 0]), 0, 1) * 255).astype(np.uint8)\n",
    "\n",
    "# Exibe uma imagem em um notebook Jupyter\n",
    "def imshow(array):\n",
    "    display(Image.fromarray(array))\n"
   ]
  },
  {
   "cell_type": "markdown",
   "metadata": {},
   "source": [
    "## 3. Encontrar Arquivos de Imagem\n",
    "Buscamos todas as imagens PNG ou JPG pasta raíz. Elas serão usadas como entrada para o processo de super-resolução."
   ]
  },
  {
   "cell_type": "code",
   "execution_count": null,
   "metadata": {},
   "outputs": [],
   "source": [
    "images = glob.glob(\"../*.png\") +  glob.glob(\"../*.jpg\")\n",
    "\n",
    "for i, img_path in enumerate(images):\n",
    "    print(f\"Imagem {i}: {img_path}\")"
   ]
  },
  {
   "cell_type": "markdown",
   "metadata": {},
   "source": [
    "## 4. Ler e Exibir uma Imagem de Referência (Ground Truth)\n",
    "Escolha uma imagem e selecione pelo índice `image_index` para exibimos como a imagem de referência (alta resolução)."
   ]
  },
  {
   "cell_type": "code",
   "execution_count": null,
   "metadata": {},
   "outputs": [],
   "source": [
    "image_index = 0\n",
    "gt = imread(images[image_index])\n",
    "\n",
    "imshow(gt)"
   ]
  },
  {
   "cell_type": "markdown",
   "metadata": {},
   "source": [
    "## 5. Criar e Exibir uma Imagem de Baixa Resolução\n",
    "Redimensionamos a imagem de referência por um fator de 4 para simular uma entrada de baixa resolução e a exibimos."
   ]
  },
  {
   "cell_type": "code",
   "execution_count": null,
   "metadata": {},
   "outputs": [],
   "source": [
    "lq = imresize(gt, 1/4)\n",
    "imshow(lq)"
   ]
  },
  {
   "cell_type": "markdown",
   "metadata": {},
   "source": [
    "## 6. Carregar o Modelo de Super-Resolução e as Métricas\n",
    "Carregamos o modelo SRFlow pré-treinado e inicializamos o cálculo das métricas para avaliação. As opções disponíveis são:\n",
    "- `SRFlow-DA_DF2K_4X.yml`\n",
    "- `SRFlow-DA_DF2K_8X.yml`"
   ]
  },
  {
   "cell_type": "code",
   "execution_count": null,
   "metadata": {},
   "outputs": [],
   "source": [
    "model, opt = load_model(\"./confs/SRFlow-DA_DF2K_4X.yml\")\n",
    "measure = Measure.Measure()"
   ]
  },
  {
   "cell_type": "markdown",
   "metadata": {},
   "source": [
    "## 7. Executar Super-Resolução e Avaliar Resultados\n",
    "Nesta etapa, usamos uma imagem de alta resolução conhecida (referência) para gerar uma versão de baixa resolução quatro vezes menor e, em seguida, aplicamos o modelo de super-resolução, que gera uma imagem 4 vezes maior que iguala a entrada original. Isso permite comparar a saída do modelo com a imagem original e calcular métricas quantitativas (PSNR, SSIM, LPIPS) para avaliar a qualidade da imagem super-resolvida. Essa avaliação só é possível porque temos acesso à imagem de referência. Então repete-se o processo dez vezes, variando o parâmetro Temperatura de 0.0 à 1.0."
   ]
  },
  {
   "cell_type": "code",
   "execution_count": null,
   "metadata": {},
   "outputs": [],
   "source": [
    "for temperature in np.linspace(0, 1, num=3):\n",
    "    result = model.get_sr(lq=to_tensor(lq), heat=temperature)\n",
    "    sr = to_image(result)\n",
    "    imshow(sr)\n",
    "    psnr, ssim, lpips = measure.measure(sr, gt)\n",
    "    print(f\"Temperature: {temperature:0.2f} - PSNR: {psnr:0.1f}, SSIM: {ssim:0.1f}, LPIPS: {lpips:0.2f}\\n\\n\")"
   ]
  },
  {
   "cell_type": "markdown",
   "metadata": {},
   "source": [
    "## 8. Aumentar a Resolução de uma Única Imagem de Baixa Resolução (Sem Referência)\n",
    "Em cenários reais, você pode ter apenas uma imagem de baixa resolução e desejar aumentá-la usando o modelo de super-resolução. Nesse caso, é possível gerar uma versão de alta resolução, mas não será possível calcular métricas quantitativas, pois a imagem de referência é desconhecida."
   ]
  },
  {
   "cell_type": "code",
   "execution_count": null,
   "metadata": {},
   "outputs": [],
   "source": [
    "image_index = 0\n",
    "lq = imread(images[image_index])\n",
    "\n",
    "imshow(lq)\n",
    "\n",
    "result = model.get_sr(lq=to_tensor(lq), heat=0.9)\n",
    "sr = to_image(result)\n",
    "\n",
    "imshow(sr)\n"
   ]
  }
 ],
 "metadata": {
  "kernelspec": {
   "display_name": ".venv",
   "language": "python",
   "name": "python3"
  },
  "language_info": {
   "codemirror_mode": {
    "name": "ipython",
    "version": 3
   },
   "file_extension": ".py",
   "mimetype": "text/x-python",
   "name": "python",
   "nbconvert_exporter": "python",
   "pygments_lexer": "ipython3",
   "version": "3.7.17"
  },
  "varInspector": {
   "cols": {
    "lenName": 16,
    "lenType": 16,
    "lenVar": 40
   },
   "kernels_config": {
    "python": {
     "delete_cmd_postfix": "",
     "delete_cmd_prefix": "del ",
     "library": "var_list.py",
     "varRefreshCmd": "print(var_dic_list())"
    },
    "r": {
     "delete_cmd_postfix": ") ",
     "delete_cmd_prefix": "rm(",
     "library": "var_list.r",
     "varRefreshCmd": "cat(var_dic_list()) "
    }
   },
   "types_to_exclude": [
    "module",
    "function",
    "builtin_function_or_method",
    "instance",
    "_Feature"
   ],
   "window_display": false
  }
 },
 "nbformat": 4,
 "nbformat_minor": 4
}
